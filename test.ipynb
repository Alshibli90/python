{
 "cells": [
  {
   "cell_type": "markdown",
   "metadata": {},
   "source": [
    "### write a programme that reads 2 number and prints the sum of the two numbers"
   ]
  }
 ],
 "metadata": {
  "language_info": {
   "name": "python"
  }
 },
 "nbformat": 4,
 "nbformat_minor": 2
}
